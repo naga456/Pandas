{
 "cells": [
  {
   "cell_type": "markdown",
   "metadata": {},
   "source": [
    "### Heroes Of Pymoli Data Analysis\n",
    "* Of the 1163 active players, the vast majority are male (84%). There also exists, a smaller, but notable proportion of female players (14%).\n",
    "\n",
    "* Our peak age demographic falls between 20-24 (44.8%) with secondary groups falling between 15-19 (18.60%) and 25-29 (13.4%).  \n",
    "-----"
   ]
  },
  {
   "cell_type": "markdown",
   "metadata": {},
   "source": [
    "### Intellisense\n"
   ]
  },
  {
   "cell_type": "code",
   "execution_count": 196,
   "metadata": {},
   "outputs": [],
   "source": [
    "%config IPCompleter.greedy = True"
   ]
  },
  {
   "cell_type": "markdown",
   "metadata": {},
   "source": [
    "### Note\n",
    "* Instructions have been included for each segment. You do not have to follow them exactly, but they are included to help you think through the steps."
   ]
  },
  {
   "cell_type": "code",
   "execution_count": 5,
   "metadata": {},
   "outputs": [
    {
     "name": "stderr",
     "output_type": "stream",
     "text": [
      "C:\\Users\\wl030\\Anaconda3\\lib\\site-packages\\numpy\\core\\__init__.py:29: UserWarning: loaded more than 1 DLL from .libs:\n",
      "C:\\Users\\wl030\\Anaconda3\\lib\\site-packages\\numpy\\.libs\\libopenblas.BNVRK7633HSX7YVO2TADGR4A5KEKXJAW.gfortran-win_amd64.dll\n",
      "C:\\Users\\wl030\\Anaconda3\\lib\\site-packages\\numpy\\.libs\\libopenblas.CSRRD7HKRKC3T3YXA7VY7TAZGLSWDKW6.gfortran-win_amd64.dll\n",
      "  stacklevel=1)\n"
     ]
    }
   ],
   "source": [
    "# Dependencies and Setup\n",
    "import pandas as pd\n",
    "import numpy as np\n",
    "\n",
    "# File to Load (Remember to Change These)\n",
    "file_to_load = \"Resources/purchase_data.csv\"\n",
    "\n",
    "# Read Purchasing File and store into Pandas data frame\n",
    "purchase_data = pd.read_csv(file_to_load)\n",
    "full_purchase_data = purchase_data"
   ]
  },
  {
   "cell_type": "markdown",
   "metadata": {},
   "source": [
    "### Analysis and Prework\n",
    "* This is the prework and analysis section of the homework and not part of the submission.\n"
   ]
  },
  {
   "cell_type": "code",
   "execution_count": 6,
   "metadata": {},
   "outputs": [],
   "source": [
    "#purchase_data.head()"
   ]
  },
  {
   "cell_type": "code",
   "execution_count": 7,
   "metadata": {},
   "outputs": [],
   "source": [
    "#purchase_data.head()\n",
    "#purchase_data.columns\n",
    "#purchase_data.count()\n",
    "#purchase_data['SN'].value_counts()\n",
    "#purchase_data['SN'].nunique()\n",
    "#player_count = len(purchase_data['SN'].unique())\n",
    "#player_count\n",
    "#wl-purchase_data['Total Players'] = len(purchase_data['SN'].unique())\n",
    "#player_count['Total Players']= purchase_data.iloc[0,7]\n",
    "#wl-player_count = purchase_data[['Total Players']]\n",
    "#wl-player_count.head(1)"
   ]
  },
  {
   "cell_type": "markdown",
   "metadata": {},
   "source": [
    "## Player Count"
   ]
  },
  {
   "cell_type": "markdown",
   "metadata": {},
   "source": [
    "* Display the total number of players\n"
   ]
  },
  {
   "cell_type": "code",
   "execution_count": 8,
   "metadata": {},
   "outputs": [
    {
     "data": {
      "text/html": [
       "<div>\n",
       "<style scoped>\n",
       "    .dataframe tbody tr th:only-of-type {\n",
       "        vertical-align: middle;\n",
       "    }\n",
       "\n",
       "    .dataframe tbody tr th {\n",
       "        vertical-align: top;\n",
       "    }\n",
       "\n",
       "    .dataframe thead th {\n",
       "        text-align: right;\n",
       "    }\n",
       "</style>\n",
       "<table border=\"1\" class=\"dataframe\">\n",
       "  <thead>\n",
       "    <tr style=\"text-align: right;\">\n",
       "      <th></th>\n",
       "      <th>Total Players</th>\n",
       "    </tr>\n",
       "  </thead>\n",
       "  <tbody>\n",
       "    <tr>\n",
       "      <th>0</th>\n",
       "      <td>576</td>\n",
       "    </tr>\n",
       "  </tbody>\n",
       "</table>\n",
       "</div>"
      ],
      "text/plain": [
       "   Total Players\n",
       "0            576"
      ]
     },
     "execution_count": 8,
     "metadata": {},
     "output_type": "execute_result"
    }
   ],
   "source": [
    "#wl - final\n",
    "purchase_data['Total Players'] = len(purchase_data['SN'].unique())\n",
    "player_count = purchase_data[['Total Players']]\n",
    "player_count.head(1)"
   ]
  },
  {
   "cell_type": "code",
   "execution_count": 197,
   "metadata": {},
   "outputs": [],
   "source": [
    "#purchase_data.count()"
   ]
  },
  {
   "cell_type": "markdown",
   "metadata": {},
   "source": [
    "### Prework\n"
   ]
  },
  {
   "cell_type": "code",
   "execution_count": 9,
   "metadata": {},
   "outputs": [],
   "source": [
    "#purchase_data.describe()\n",
    "#purchase_data.head()\n",
    "#num_unique_items = purchase_data['Item ID'].nunique()\n",
    "#num_unique_items\n"
   ]
  },
  {
   "cell_type": "code",
   "execution_count": 10,
   "metadata": {},
   "outputs": [],
   "source": [
    "#purchase_data.head()\n",
    "#avg_price = purchase_data['Price'].mean().round(2)\n",
    "#avg_price\n"
   ]
  },
  {
   "cell_type": "code",
   "execution_count": 11,
   "metadata": {},
   "outputs": [],
   "source": [
    "#purchase_data.head()\n",
    "#num_purchases = purchase_data['Purchase ID'].count()\n",
    "#num_purchases"
   ]
  },
  {
   "cell_type": "code",
   "execution_count": 12,
   "metadata": {},
   "outputs": [],
   "source": [
    "#purchase_data.head()\n",
    "#total_rev = purchase_data['Price'].sum()\n",
    "#total_rev"
   ]
  },
  {
   "cell_type": "code",
   "execution_count": 13,
   "metadata": {},
   "outputs": [],
   "source": [
    "#purchasing_analysis = pd.DataFrame({\"Number of Unique Items\":[num_unique_items],\n",
    "#                                   \"Average Price\":[avg_price],\n",
    "#                                   \"Number of Purchases\":[num_purchases],\n",
    "#                                   \"Total Revenue\":[total_rev]})\n",
    "#purchasing_analysis  ###WL - format this correctly"
   ]
  },
  {
   "cell_type": "markdown",
   "metadata": {},
   "source": [
    "## Purchasing Analysis (Total)"
   ]
  },
  {
   "cell_type": "markdown",
   "metadata": {},
   "source": [
    "* Run basic calculations to obtain number of unique items, average price, etc.\n",
    "\n",
    "\n",
    "* Create a summary data frame to hold the results\n",
    "\n",
    "\n",
    "* Optional: give the displayed data cleaner formatting\n",
    "\n",
    "\n",
    "* Display the summary data frame\n"
   ]
  },
  {
   "cell_type": "code",
   "execution_count": 25,
   "metadata": {
    "scrolled": true
   },
   "outputs": [
    {
     "data": {
      "text/html": [
       "<div>\n",
       "<style scoped>\n",
       "    .dataframe tbody tr th:only-of-type {\n",
       "        vertical-align: middle;\n",
       "    }\n",
       "\n",
       "    .dataframe tbody tr th {\n",
       "        vertical-align: top;\n",
       "    }\n",
       "\n",
       "    .dataframe thead th {\n",
       "        text-align: right;\n",
       "    }\n",
       "</style>\n",
       "<table border=\"1\" class=\"dataframe\">\n",
       "  <thead>\n",
       "    <tr style=\"text-align: right;\">\n",
       "      <th></th>\n",
       "      <th>Number of Unique Items</th>\n",
       "      <th>Average Price</th>\n",
       "      <th>Number of Purchases</th>\n",
       "      <th>Total Revenue</th>\n",
       "    </tr>\n",
       "  </thead>\n",
       "  <tbody>\n",
       "    <tr>\n",
       "      <th>0</th>\n",
       "      <td>183</td>\n",
       "      <td>$3.05</td>\n",
       "      <td>780</td>\n",
       "      <td>$2,379.77</td>\n",
       "    </tr>\n",
       "  </tbody>\n",
       "</table>\n",
       "</div>"
      ],
      "text/plain": [
       "   Number of Unique Items Average Price  Number of Purchases Total Revenue\n",
       "0                     183         $3.05                  780     $2,379.77"
      ]
     },
     "execution_count": 25,
     "metadata": {},
     "output_type": "execute_result"
    }
   ],
   "source": [
    "#wl - final\n",
    "\n",
    "num_unique_items = purchase_data['Item ID'].nunique()\n",
    "avg_price = purchase_data['Price'].mean()\n",
    "num_purchases = purchase_data['Purchase ID'].count()\n",
    "total_rev = purchase_data['Price'].sum()\n",
    "purchasing_analysis = pd.DataFrame({\"Number of Unique Items\":[num_unique_items],\n",
    "                                   \"Average Price\":[avg_price],\n",
    "                                   \"Number of Purchases\":[num_purchases],\n",
    "                                   \"Total Revenue\":[total_rev]})\n",
    "#purchasing_analysis.dtypes\n",
    "purchasing_analysis['Average Price'] = purchasing_analysis['Average Price'].map('${:,.2f}'.format)\n",
    "purchasing_analysis['Total Revenue'] = purchasing_analysis['Total Revenue'].map('${:,.2f}'.format)\n",
    "purchasing_analysis  "
   ]
  },
  {
   "cell_type": "markdown",
   "metadata": {},
   "source": [
    "### Pre work\n"
   ]
  },
  {
   "cell_type": "code",
   "execution_count": 198,
   "metadata": {},
   "outputs": [],
   "source": [
    "###purchase_data.head()\n",
    "\n",
    "###purchase_data.groupby('Gender').count()['SN']\n",
    "###gender_df = pd.DataFrame()\n",
    "###gender_df['Total Count'] = purchase_data.groupby('Gender').count()['SN']\n",
    "#gender_df['Percentage of Players'] = gender_df['Female']\n",
    "\n",
    "#gender_df['player base'] = gender_df.loc['Female'] + gender_df.loc['Male'] + gender_df.loc['Other / Non-Disclosed']\n",
    "###gender_df['player base'] = gender_df['Total Count'].sum()\n",
    "###gender_df['Percentage of Players'] = gender_df['Total Count']/gender_df['player base']\n",
    "###gender_df\n",
    "\n",
    "\n"
   ]
  },
  {
   "cell_type": "code",
   "execution_count": 199,
   "metadata": {},
   "outputs": [],
   "source": [
    "#clean_purcashing_data = purchase_data.dropna(how='any')\n",
    "#clean_purcashing_data.groupby('Gender').count()\n",
    "#clean_purcashing_data.groupby('Gender').count().sum()"
   ]
  },
  {
   "cell_type": "markdown",
   "metadata": {},
   "source": [
    "## Gender Demographics"
   ]
  },
  {
   "cell_type": "markdown",
   "metadata": {},
   "source": [
    "* Percentage and Count of Male Players\n",
    "\n",
    "\n",
    "* Percentage and Count of Female Players\n",
    "\n",
    "\n",
    "* Percentage and Count of Other / Non-Disclosed\n",
    "\n",
    "\n"
   ]
  },
  {
   "cell_type": "code",
   "execution_count": 27,
   "metadata": {},
   "outputs": [],
   "source": [
    "#gender_temp = purchase_data[['SN','Gender']]\n",
    "#gender_temp = gender_temp.drop_duplicates()\n",
    "#gender_temp.head()"
   ]
  },
  {
   "cell_type": "code",
   "execution_count": 200,
   "metadata": {},
   "outputs": [
    {
     "data": {
      "text/html": [
       "<div>\n",
       "<style scoped>\n",
       "    .dataframe tbody tr th:only-of-type {\n",
       "        vertical-align: middle;\n",
       "    }\n",
       "\n",
       "    .dataframe tbody tr th {\n",
       "        vertical-align: top;\n",
       "    }\n",
       "\n",
       "    .dataframe thead th {\n",
       "        text-align: right;\n",
       "    }\n",
       "</style>\n",
       "<table border=\"1\" class=\"dataframe\">\n",
       "  <thead>\n",
       "    <tr style=\"text-align: right;\">\n",
       "      <th></th>\n",
       "      <th>Total Count</th>\n",
       "      <th>player base</th>\n",
       "      <th>Percentage of Players</th>\n",
       "    </tr>\n",
       "    <tr>\n",
       "      <th>Gender</th>\n",
       "      <th></th>\n",
       "      <th></th>\n",
       "      <th></th>\n",
       "    </tr>\n",
       "  </thead>\n",
       "  <tbody>\n",
       "    <tr>\n",
       "      <th>Female</th>\n",
       "      <td>81</td>\n",
       "      <td>576</td>\n",
       "      <td>14.06</td>\n",
       "    </tr>\n",
       "    <tr>\n",
       "      <th>Male</th>\n",
       "      <td>484</td>\n",
       "      <td>576</td>\n",
       "      <td>84.03</td>\n",
       "    </tr>\n",
       "    <tr>\n",
       "      <th>Other / Non-Disclosed</th>\n",
       "      <td>11</td>\n",
       "      <td>576</td>\n",
       "      <td>1.91</td>\n",
       "    </tr>\n",
       "  </tbody>\n",
       "</table>\n",
       "</div>"
      ],
      "text/plain": [
       "                       Total Count  player base  Percentage of Players\n",
       "Gender                                                                \n",
       "Female                          81          576                  14.06\n",
       "Male                           484          576                  84.03\n",
       "Other / Non-Disclosed           11          576                   1.91"
      ]
     },
     "execution_count": 200,
     "metadata": {},
     "output_type": "execute_result"
    }
   ],
   "source": [
    "#wl - final\n",
    "gender_temp = purchase_data[['SN','Gender']]\n",
    "gender_temp = gender_temp.drop_duplicates()\n",
    "gender_temp.head()\n",
    "#purchase_data.groupby('Gender').count()['SN']\n",
    "gender_df = pd.DataFrame()\n",
    "gender_df['Total Count'] = gender_temp.groupby('Gender').count()['SN']\n",
    "gender_df['player base'] = gender_df['Total Count'].sum()\n",
    "gender_df['Percentage of Players'] = round((gender_df['Total Count']/gender_df['player base'])*100,2)\n",
    "gender_df "
   ]
  },
  {
   "cell_type": "markdown",
   "metadata": {},
   "source": [
    "\n",
    "## Purchasing Analysis (Gender)"
   ]
  },
  {
   "cell_type": "markdown",
   "metadata": {},
   "source": [
    "* Run basic calculations to obtain purchase count, avg. purchase price, avg. purchase total per person etc. by gender\n",
    "\n",
    "\n",
    "\n",
    "\n",
    "* Create a summary data frame to hold the results\n",
    "\n",
    "\n",
    "* Optional: give the displayed data cleaner formatting\n",
    "\n",
    "\n",
    "* Display the summary data frame"
   ]
  },
  {
   "cell_type": "code",
   "execution_count": 67,
   "metadata": {},
   "outputs": [],
   "source": [
    "#wl-purchase_data.head()"
   ]
  },
  {
   "cell_type": "code",
   "execution_count": 66,
   "metadata": {},
   "outputs": [],
   "source": [
    "#wl-purchase_data.groupby('Gender').count()"
   ]
  },
  {
   "cell_type": "code",
   "execution_count": 65,
   "metadata": {},
   "outputs": [],
   "source": [
    "#wl-purchase_data.groupby('Gender').sum()"
   ]
  },
  {
   "cell_type": "code",
   "execution_count": 64,
   "metadata": {},
   "outputs": [],
   "source": [
    "#wl-avg_total_purchase_pp = purchase_data.groupby('Gender').sum()\n",
    "#wl-avg_total_purchase_pp['total person']= grouped_purchase_data['SN']\n",
    "#wl-avg_total_purchase_pp"
   ]
  },
  {
   "cell_type": "code",
   "execution_count": 63,
   "metadata": {},
   "outputs": [],
   "source": [
    "#wl-unique_players = purchase_data[['SN','Gender']]\n",
    "#wl-unique_players = unique_players.drop_duplicates()\n",
    "#wl-unique_genders = unique_players.groupby(\"Gender\").count()\n",
    "#wl-unique_genders.head()"
   ]
  },
  {
   "cell_type": "code",
   "execution_count": 62,
   "metadata": {},
   "outputs": [],
   "source": [
    "#wl-unique_players = purchase_data[['SN','Gender']]\n",
    "#wl-unique_players = unique_players.drop_duplicates()\n",
    "#wl-unique_genders = unique_players.groupby(\"Gender\").count()\n",
    "#unique_genders.describe()\n",
    "#unique_players.head()\n",
    "#avg_total_purchase_pp = unique_players.groupby('Gender').sum()\n",
    "#avg_total_purchase_pp['total person']= unique_players['SN']\n",
    "#avg_total_purchase_pp\n",
    "#wl-avg_total_purchase_pp = purchase_data.groupby('Gender').sum()\n",
    "#wl-avg_total_purchase_pp['total person']= grouped_purchase_data['SN']\n",
    "#wl-avg_total_purchase_pp['total_gender']= unique_genders['SN']\n",
    "#avg_total_purchase_pp['Avg Total Purchase per Person']= \n",
    "#wl-avg_total_purchase_pp"
   ]
  },
  {
   "cell_type": "code",
   "execution_count": 201,
   "metadata": {},
   "outputs": [
    {
     "data": {
      "text/html": [
       "<div>\n",
       "<style scoped>\n",
       "    .dataframe tbody tr th:only-of-type {\n",
       "        vertical-align: middle;\n",
       "    }\n",
       "\n",
       "    .dataframe tbody tr th {\n",
       "        vertical-align: top;\n",
       "    }\n",
       "\n",
       "    .dataframe thead th {\n",
       "        text-align: right;\n",
       "    }\n",
       "</style>\n",
       "<table border=\"1\" class=\"dataframe\">\n",
       "  <thead>\n",
       "    <tr style=\"text-align: right;\">\n",
       "      <th></th>\n",
       "      <th>Purchase Count</th>\n",
       "      <th>Average Purchase Price</th>\n",
       "      <th>Total Purchase Value</th>\n",
       "      <th>Avg Total Purchase per Person</th>\n",
       "    </tr>\n",
       "    <tr>\n",
       "      <th>Gender</th>\n",
       "      <th></th>\n",
       "      <th></th>\n",
       "      <th></th>\n",
       "      <th></th>\n",
       "    </tr>\n",
       "  </thead>\n",
       "  <tbody>\n",
       "    <tr>\n",
       "      <th>Female</th>\n",
       "      <td>113</td>\n",
       "      <td>$3.20</td>\n",
       "      <td>$361.94</td>\n",
       "      <td>$4.47</td>\n",
       "    </tr>\n",
       "    <tr>\n",
       "      <th>Male</th>\n",
       "      <td>652</td>\n",
       "      <td>$3.02</td>\n",
       "      <td>$1,967.64</td>\n",
       "      <td>$4.07</td>\n",
       "    </tr>\n",
       "    <tr>\n",
       "      <th>Other / Non-Disclosed</th>\n",
       "      <td>15</td>\n",
       "      <td>$3.35</td>\n",
       "      <td>$50.19</td>\n",
       "      <td>$4.56</td>\n",
       "    </tr>\n",
       "  </tbody>\n",
       "</table>\n",
       "</div>"
      ],
      "text/plain": [
       "                       Purchase Count Average Purchase Price  \\\n",
       "Gender                                                         \n",
       "Female                            113                  $3.20   \n",
       "Male                              652                  $3.02   \n",
       "Other / Non-Disclosed              15                  $3.35   \n",
       "\n",
       "                      Total Purchase Value Avg Total Purchase per Person  \n",
       "Gender                                                                    \n",
       "Female                             $361.94                         $4.47  \n",
       "Male                             $1,967.64                         $4.07  \n",
       "Other / Non-Disclosed               $50.19                         $4.56  "
      ]
     },
     "execution_count": 201,
     "metadata": {},
     "output_type": "execute_result"
    }
   ],
   "source": [
    "#wl -final\n",
    "purchase_data.describe()\n",
    "grouped_purchase_data = purchase_data.groupby('Gender').count()\n",
    "avg_purchase_price = round(purchase_data.groupby('Gender').mean(),2)\n",
    "total_purchase_value = purchase_data.groupby('Gender').sum()\n",
    "gender_pa = pd.DataFrame()\n",
    "gender_pa['Purchase Count'] = grouped_purchase_data['SN']\n",
    "gender_pa['Average Purchase Price']=avg_purchase_price['Price']\n",
    "gender_pa['Total Purchase Value']= total_purchase_value['Price']\n",
    "\n",
    "#This section calculates average per person\n",
    "unique_players = purchase_data[['SN','Gender']]\n",
    "unique_players = unique_players.drop_duplicates()\n",
    "unique_genders = unique_players.groupby(\"Gender\").count()\n",
    "avg_total_purchase_pp = purchase_data.groupby('Gender').sum()\n",
    "avg_total_purchase_pp['total person']= grouped_purchase_data['SN']\n",
    "avg_total_purchase_pp['total_gender']= unique_genders['SN']\n",
    "#avg_total_purchase_pp\n",
    "\n",
    "gender_pa['Avg Total Purchase per Person'] = avg_total_purchase_pp['Price']/avg_total_purchase_pp['total_gender']\n",
    "\n",
    "gender_pa['Average Purchase Price']=gender_pa['Average Purchase Price'].map('${:,.2f}'.format)\n",
    "gender_pa['Total Purchase Value']=gender_pa['Total Purchase Value'].map('${:,.2f}'.format)\n",
    "gender_pa['Avg Total Purchase per Person']=gender_pa['Avg Total Purchase per Person'].map('${:,.2f}'.format)\n",
    "gender_pa  "
   ]
  },
  {
   "cell_type": "markdown",
   "metadata": {},
   "source": [
    "## Age Demographics"
   ]
  },
  {
   "cell_type": "markdown",
   "metadata": {},
   "source": [
    "* Establish bins for ages\n",
    "\n",
    "\n",
    "* Categorize the existing players using the age bins. Hint: use pd.cut()\n",
    "\n",
    "\n",
    "* Calculate the numbers and percentages by age group\n",
    "\n",
    "\n",
    "* Create a summary data frame to hold the results\n",
    "\n",
    "\n",
    "* Optional: round the percentage column to two decimal points\n",
    "\n",
    "\n",
    "* Display Age Demographics Table\n"
   ]
  },
  {
   "cell_type": "code",
   "execution_count": 202,
   "metadata": {},
   "outputs": [
    {
     "data": {
      "text/html": [
       "<div>\n",
       "<style scoped>\n",
       "    .dataframe tbody tr th:only-of-type {\n",
       "        vertical-align: middle;\n",
       "    }\n",
       "\n",
       "    .dataframe tbody tr th {\n",
       "        vertical-align: top;\n",
       "    }\n",
       "\n",
       "    .dataframe thead th {\n",
       "        text-align: right;\n",
       "    }\n",
       "</style>\n",
       "<table border=\"1\" class=\"dataframe\">\n",
       "  <thead>\n",
       "    <tr style=\"text-align: right;\">\n",
       "      <th></th>\n",
       "      <th>SN</th>\n",
       "      <th>Age</th>\n",
       "      <th>Total Players</th>\n",
       "      <th>Percentage of Players</th>\n",
       "    </tr>\n",
       "    <tr>\n",
       "      <th>Age Bins</th>\n",
       "      <th></th>\n",
       "      <th></th>\n",
       "      <th></th>\n",
       "      <th></th>\n",
       "    </tr>\n",
       "  </thead>\n",
       "  <tbody>\n",
       "    <tr>\n",
       "      <th>&lt;10</th>\n",
       "      <td>17</td>\n",
       "      <td>17</td>\n",
       "      <td>17</td>\n",
       "      <td>2.95</td>\n",
       "    </tr>\n",
       "    <tr>\n",
       "      <th>10-14</th>\n",
       "      <td>22</td>\n",
       "      <td>22</td>\n",
       "      <td>22</td>\n",
       "      <td>3.82</td>\n",
       "    </tr>\n",
       "    <tr>\n",
       "      <th>15-19</th>\n",
       "      <td>107</td>\n",
       "      <td>107</td>\n",
       "      <td>107</td>\n",
       "      <td>18.58</td>\n",
       "    </tr>\n",
       "    <tr>\n",
       "      <th>20-24</th>\n",
       "      <td>258</td>\n",
       "      <td>258</td>\n",
       "      <td>258</td>\n",
       "      <td>44.79</td>\n",
       "    </tr>\n",
       "    <tr>\n",
       "      <th>25-29</th>\n",
       "      <td>77</td>\n",
       "      <td>77</td>\n",
       "      <td>77</td>\n",
       "      <td>13.37</td>\n",
       "    </tr>\n",
       "    <tr>\n",
       "      <th>30-34</th>\n",
       "      <td>52</td>\n",
       "      <td>52</td>\n",
       "      <td>52</td>\n",
       "      <td>9.03</td>\n",
       "    </tr>\n",
       "    <tr>\n",
       "      <th>35-39</th>\n",
       "      <td>31</td>\n",
       "      <td>31</td>\n",
       "      <td>31</td>\n",
       "      <td>5.38</td>\n",
       "    </tr>\n",
       "    <tr>\n",
       "      <th>40+</th>\n",
       "      <td>12</td>\n",
       "      <td>12</td>\n",
       "      <td>12</td>\n",
       "      <td>2.08</td>\n",
       "    </tr>\n",
       "  </tbody>\n",
       "</table>\n",
       "</div>"
      ],
      "text/plain": [
       "           SN  Age  Total Players  Percentage of Players\n",
       "Age Bins                                                \n",
       "<10        17   17             17                   2.95\n",
       "10-14      22   22             22                   3.82\n",
       "15-19     107  107            107                  18.58\n",
       "20-24     258  258            258                  44.79\n",
       "25-29      77   77             77                  13.37\n",
       "30-34      52   52             52                   9.03\n",
       "35-39      31   31             31                   5.38\n",
       "40+        12   12             12                   2.08"
      ]
     },
     "execution_count": 202,
     "metadata": {},
     "output_type": "execute_result"
    }
   ],
   "source": [
    "#purchase_data.count()\n",
    "#get unique players\n",
    "unique_players = purchase_data[['SN','Age']].drop_duplicates()\n",
    "unique_players['Total Players'] = len(unique_players['SN'].unique())\n",
    "total_players = len(unique_players['SN'].unique())\n",
    "\n",
    "#Bin logic\n",
    "bins=[0,9,14,19,24,29,34,39,100]\n",
    "bin_labels= ['<10','10-14','15-19','20-24','25-29','30-34','35-39','40+']\n",
    "unique_players['Age Bins']=pd.cut(unique_players['Age'],bins, labels= bin_labels) \n",
    "age_demographics = unique_players.groupby('Age Bins').count()\n",
    "age_temp = unique_players.groupby('Age Bins').count()\n",
    "#age_temp\n",
    "age_demographics['Percentage of Players'] = round((age_temp['Age']/total_players)*100,2)\n",
    "#unique_players.head()\n",
    "\n",
    "age_demographics.rename(columns={'Age':'Total Count'})\n",
    "\n",
    "###age_demographics.drop(columns=['SN','Total Players'])\n",
    "age_demographics\n",
    "#rename/drop columns doesn't work"
   ]
  },
  {
   "cell_type": "code",
   "execution_count": 67,
   "metadata": {},
   "outputs": [],
   "source": [
    "#total_players = len(unique_players['SN'].unique())\n",
    "#print(total_players)\n",
    "#total_players.dtypes"
   ]
  },
  {
   "cell_type": "markdown",
   "metadata": {},
   "source": [
    "## Purchasing Analysis (Age)"
   ]
  },
  {
   "cell_type": "markdown",
   "metadata": {},
   "source": [
    "* Bin the purchase_data data frame by age\n",
    "\n",
    "\n",
    "* Run basic calculations to obtain purchase count, avg. purchase price, avg. purchase total per person etc. in the table below\n",
    "\n",
    "\n",
    "* Create a summary data frame to hold the results\n",
    "\n",
    "\n",
    "* Optional: give the displayed data cleaner formatting\n",
    "\n",
    "\n",
    "* Display the summary data frame"
   ]
  },
  {
   "cell_type": "code",
   "execution_count": 203,
   "metadata": {},
   "outputs": [
    {
     "data": {
      "text/html": [
       "<div>\n",
       "<style scoped>\n",
       "    .dataframe tbody tr th:only-of-type {\n",
       "        vertical-align: middle;\n",
       "    }\n",
       "\n",
       "    .dataframe tbody tr th {\n",
       "        vertical-align: top;\n",
       "    }\n",
       "\n",
       "    .dataframe thead th {\n",
       "        text-align: right;\n",
       "    }\n",
       "</style>\n",
       "<table border=\"1\" class=\"dataframe\">\n",
       "  <thead>\n",
       "    <tr style=\"text-align: right;\">\n",
       "      <th></th>\n",
       "      <th>Purchase Count</th>\n",
       "      <th>Average Purchase Value</th>\n",
       "      <th>Total Purchase Value</th>\n",
       "      <th>Avg Total Purchase per Person</th>\n",
       "    </tr>\n",
       "    <tr>\n",
       "      <th>Age Bins</th>\n",
       "      <th></th>\n",
       "      <th></th>\n",
       "      <th></th>\n",
       "      <th></th>\n",
       "    </tr>\n",
       "  </thead>\n",
       "  <tbody>\n",
       "    <tr>\n",
       "      <th>&lt;10</th>\n",
       "      <td>23</td>\n",
       "      <td>$3.35</td>\n",
       "      <td>$77.13</td>\n",
       "      <td>$4.54</td>\n",
       "    </tr>\n",
       "    <tr>\n",
       "      <th>10-14</th>\n",
       "      <td>28</td>\n",
       "      <td>$2.96</td>\n",
       "      <td>$82.78</td>\n",
       "      <td>$3.76</td>\n",
       "    </tr>\n",
       "    <tr>\n",
       "      <th>15-19</th>\n",
       "      <td>136</td>\n",
       "      <td>$3.04</td>\n",
       "      <td>$412.89</td>\n",
       "      <td>$3.86</td>\n",
       "    </tr>\n",
       "    <tr>\n",
       "      <th>20-24</th>\n",
       "      <td>365</td>\n",
       "      <td>$3.05</td>\n",
       "      <td>$1,114.06</td>\n",
       "      <td>$4.32</td>\n",
       "    </tr>\n",
       "    <tr>\n",
       "      <th>25-29</th>\n",
       "      <td>101</td>\n",
       "      <td>$2.90</td>\n",
       "      <td>$293.00</td>\n",
       "      <td>$3.81</td>\n",
       "    </tr>\n",
       "    <tr>\n",
       "      <th>30-34</th>\n",
       "      <td>73</td>\n",
       "      <td>$2.93</td>\n",
       "      <td>$214.00</td>\n",
       "      <td>$4.12</td>\n",
       "    </tr>\n",
       "    <tr>\n",
       "      <th>35-39</th>\n",
       "      <td>41</td>\n",
       "      <td>$3.60</td>\n",
       "      <td>$147.67</td>\n",
       "      <td>$4.76</td>\n",
       "    </tr>\n",
       "    <tr>\n",
       "      <th>40+</th>\n",
       "      <td>13</td>\n",
       "      <td>$2.94</td>\n",
       "      <td>$38.24</td>\n",
       "      <td>$3.19</td>\n",
       "    </tr>\n",
       "  </tbody>\n",
       "</table>\n",
       "</div>"
      ],
      "text/plain": [
       "          Purchase Count Average Purchase Value Total Purchase Value  \\\n",
       "Age Bins                                                               \n",
       "<10                   23                  $3.35               $77.13   \n",
       "10-14                 28                  $2.96               $82.78   \n",
       "15-19                136                  $3.04              $412.89   \n",
       "20-24                365                  $3.05            $1,114.06   \n",
       "25-29                101                  $2.90              $293.00   \n",
       "30-34                 73                  $2.93              $214.00   \n",
       "35-39                 41                  $3.60              $147.67   \n",
       "40+                   13                  $2.94               $38.24   \n",
       "\n",
       "         Avg Total Purchase per Person  \n",
       "Age Bins                                \n",
       "<10                              $4.54  \n",
       "10-14                            $3.76  \n",
       "15-19                            $3.86  \n",
       "20-24                            $4.32  \n",
       "25-29                            $3.81  \n",
       "30-34                            $4.12  \n",
       "35-39                            $4.76  \n",
       "40+                              $3.19  "
      ]
     },
     "execution_count": 203,
     "metadata": {},
     "output_type": "execute_result"
    }
   ],
   "source": [
    "###wl - final\n",
    "start_df = purchase_data\n",
    "\n",
    "#Bin logic\n",
    "bins=[0,9,14,19,24,29,34,39,100]\n",
    "bin_labels= ['<10','10-14','15-19','20-24','25-29','30-34','35-39','40+']\n",
    "start_df['Age Bins']=pd.cut(start_df['Age'],bins, labels= bin_labels) \n",
    "temp_df = start_df.groupby('Age Bins')\n",
    "\n",
    "purchase_count = temp_df['Purchase ID'].count()\n",
    "average_purchase_price = temp_df['Price'].mean()\n",
    "total_purchase_value = temp_df['Price'].sum()\n",
    "total_players_by_bin = age_demographics['Total Players']\n",
    "Avg_Total_Purchase_per_Person = (total_purchase_value/total_players_by_bin)\n",
    "#answer\n",
    "age_df = pd.DataFrame()\n",
    "age_df['Purchase Count'] = purchase_count\n",
    "age_df['Average Purchase Value']= average_purchase_price\n",
    "age_df['Total Purchase Value']= total_purchase_value\n",
    "age_df['Avg Total Purchase per Person']= Avg_Total_Purchase_per_Person\n",
    "\n",
    "#formatting\n",
    "age_df['Average Purchase Value'] = age_df['Average Purchase Value'].map('${:,.2f}'.format)\n",
    "age_df['Total Purchase Value']= age_df['Total Purchase Value'].map('${:,.2f}'.format)\n",
    "age_df['Avg Total Purchase per Person']= age_df['Avg Total Purchase per Person'].map('${:,.2f}'.format)\n",
    "\n",
    "#display\n",
    "age_df\n",
    "#Avg_Total_Purchase_per_Person\n",
    "#total_players_by_bin\n",
    "#total_purchase_value\n",
    "#average_purchase_price\n",
    "#purchase_count\n",
    "#start_df\n"
   ]
  },
  {
   "cell_type": "markdown",
   "metadata": {},
   "source": [
    "## Top Spenders"
   ]
  },
  {
   "cell_type": "markdown",
   "metadata": {},
   "source": [
    "* Run basic calculations to obtain the results in the table below\n",
    "\n",
    "\n",
    "* Create a summary data frame to hold the results\n",
    "\n",
    "\n",
    "* Sort the total purchase value column in descending order\n",
    "\n",
    "\n",
    "* Optional: give the displayed data cleaner formatting\n",
    "\n",
    "\n",
    "* Display a preview of the summary data frame\n",
    "\n"
   ]
  },
  {
   "cell_type": "code",
   "execution_count": 256,
   "metadata": {},
   "outputs": [
    {
     "data": {
      "text/html": [
       "<div>\n",
       "<style scoped>\n",
       "    .dataframe tbody tr th:only-of-type {\n",
       "        vertical-align: middle;\n",
       "    }\n",
       "\n",
       "    .dataframe tbody tr th {\n",
       "        vertical-align: top;\n",
       "    }\n",
       "\n",
       "    .dataframe thead th {\n",
       "        text-align: right;\n",
       "    }\n",
       "</style>\n",
       "<table border=\"1\" class=\"dataframe\">\n",
       "  <thead>\n",
       "    <tr style=\"text-align: right;\">\n",
       "      <th></th>\n",
       "      <th>Purchase Count</th>\n",
       "      <th>Average Purchase Price</th>\n",
       "      <th>Total Purhcase Value</th>\n",
       "    </tr>\n",
       "    <tr>\n",
       "      <th>SN</th>\n",
       "      <th></th>\n",
       "      <th></th>\n",
       "      <th></th>\n",
       "    </tr>\n",
       "  </thead>\n",
       "  <tbody>\n",
       "    <tr>\n",
       "      <th>Lisosia93</th>\n",
       "      <td>5</td>\n",
       "      <td>$3.79</td>\n",
       "      <td>$18.96</td>\n",
       "    </tr>\n",
       "    <tr>\n",
       "      <th>Idastidru52</th>\n",
       "      <td>4</td>\n",
       "      <td>$3.86</td>\n",
       "      <td>$15.45</td>\n",
       "    </tr>\n",
       "    <tr>\n",
       "      <th>Chamjask73</th>\n",
       "      <td>3</td>\n",
       "      <td>$4.61</td>\n",
       "      <td>$13.83</td>\n",
       "    </tr>\n",
       "    <tr>\n",
       "      <th>Iral74</th>\n",
       "      <td>4</td>\n",
       "      <td>$3.40</td>\n",
       "      <td>$13.62</td>\n",
       "    </tr>\n",
       "    <tr>\n",
       "      <th>Iskadarya95</th>\n",
       "      <td>3</td>\n",
       "      <td>$4.37</td>\n",
       "      <td>$13.10</td>\n",
       "    </tr>\n",
       "  </tbody>\n",
       "</table>\n",
       "</div>"
      ],
      "text/plain": [
       "             Purchase Count Average Purchase Price Total Purhcase Value\n",
       "SN                                                                     \n",
       "Lisosia93                 5                  $3.79               $18.96\n",
       "Idastidru52               4                  $3.86               $15.45\n",
       "Chamjask73                3                  $4.61               $13.83\n",
       "Iral74                    4                  $3.40               $13.62\n",
       "Iskadarya95               3                  $4.37               $13.10"
      ]
     },
     "execution_count": 256,
     "metadata": {},
     "output_type": "execute_result"
    }
   ],
   "source": [
    "#purchase_data\n",
    "first_df = purchase_data\n",
    "temp_df = first_df.groupby('SN').count()\n",
    "second_df = first_df.groupby('SN').mean()\n",
    "third_df = first_df.groupby('SN').sum()\n",
    "purchase_count = temp_df['Purchase ID']\n",
    "average_purchase_price = second_df['Price']\n",
    "total_purchase_value = third_df['Price']\n",
    "\n",
    "top_spenders = pd.DataFrame()\n",
    "top_spenders['Purchase Count']=purchase_count\n",
    "top_spenders['Average Purchase Price']=average_purchase_price\n",
    "top_spenders['Total Purhcase Value']=total_purchase_value\n",
    "#top_spenders.sort_values('Total Purhchase Value',ascending = False)\n",
    "#total_purchase_value.describe()\n",
    "#average_purchase_price\n",
    "#temp_df.count().sort_values('Purchase ID',ascending = False)\n",
    "#purchase_count\n",
    "#third_df.sort_values('Price',ascending = False)\n",
    "#top_spenders.dtypes\n",
    "\n",
    "\n",
    "\n",
    "###output and formatting\n",
    "top_spenders.astype(float)\n",
    "\n",
    "#top_spenders['Average Purchase Price'] = top_spenders['Average Purchase Price'].map('${:,.2f}'.format)\n",
    "#top_spenders['Total Purhcase Value'] = top_spenders['Total Purhcase Value'].map('${:,.2f}'.format)\n",
    "#top_spenders.sort_values('Total Purhcase Value', ascending=False).head()\n",
    "final_df = top_spenders.sort_values('Total Purhcase Value', ascending=False).head()\n",
    "final_df['Average Purchase Price'] = final_df['Average Purchase Price'].map('${:,.2f}'.format)\n",
    "final_df['Total Purhcase Value'] = final_df['Total Purhcase Value'].map('${:,.2f}'.format)\n",
    "final_df\n",
    "###debugging area\n",
    "\n",
    "#top_spenders.sort_values(by =['Total Purchase Value']).head() ###wl-tbd: bug + formating\n",
    "#top_spenders.describe()\n",
    "#print(top_spenders.index.names)\n",
    "#debugdf= top_spenders.sort_values(by=['Total Purhcase Value'], axis=1)\n",
    "#debug_df = top_spenders.astype(float)\n",
    "#debug_df.sort_values('Total Purhcase Value', ascending=False)\n",
    "#debug_df"
   ]
  },
  {
   "cell_type": "markdown",
   "metadata": {},
   "source": [
    "## Most Popular Items"
   ]
  },
  {
   "cell_type": "markdown",
   "metadata": {},
   "source": [
    "* Retrieve the Item ID, Item Name, and Item Price columns\n",
    "\n",
    "\n",
    "* Group by Item ID and Item Name. Perform calculations to obtain purchase count, item price, and total purchase value\n",
    "\n",
    "\n",
    "* Create a summary data frame to hold the results\n",
    "\n",
    "\n",
    "* Sort the purchase count column in descending order\n",
    "\n",
    "\n",
    "* Optional: give the displayed data cleaner formatting\n",
    "\n",
    "\n",
    "* Display a preview of the summary data frame\n",
    "\n"
   ]
  },
  {
   "cell_type": "code",
   "execution_count": 471,
   "metadata": {},
   "outputs": [
    {
     "data": {
      "text/html": [
       "<div>\n",
       "<style scoped>\n",
       "    .dataframe tbody tr th:only-of-type {\n",
       "        vertical-align: middle;\n",
       "    }\n",
       "\n",
       "    .dataframe tbody tr th {\n",
       "        vertical-align: top;\n",
       "    }\n",
       "\n",
       "    .dataframe thead th {\n",
       "        text-align: right;\n",
       "    }\n",
       "</style>\n",
       "<table border=\"1\" class=\"dataframe\">\n",
       "  <thead>\n",
       "    <tr style=\"text-align: right;\">\n",
       "      <th></th>\n",
       "      <th></th>\n",
       "      <th>Purchase Count</th>\n",
       "      <th>Item Price</th>\n",
       "      <th>Total Purchase Value</th>\n",
       "    </tr>\n",
       "    <tr>\n",
       "      <th>Item ID</th>\n",
       "      <th>Item Name</th>\n",
       "      <th></th>\n",
       "      <th></th>\n",
       "      <th></th>\n",
       "    </tr>\n",
       "  </thead>\n",
       "  <tbody>\n",
       "    <tr>\n",
       "      <th>178</th>\n",
       "      <th>Oathbreaker, Last Hope of the Breaking Storm</th>\n",
       "      <td>12</td>\n",
       "      <td>$4.23</td>\n",
       "      <td>$50.76</td>\n",
       "    </tr>\n",
       "    <tr>\n",
       "      <th>108</th>\n",
       "      <th>Extraction, Quickblade Of Trembling Hands</th>\n",
       "      <td>9</td>\n",
       "      <td>$3.53</td>\n",
       "      <td>$31.77</td>\n",
       "    </tr>\n",
       "    <tr>\n",
       "      <th>82</th>\n",
       "      <th>Nirvana</th>\n",
       "      <td>9</td>\n",
       "      <td>$4.90</td>\n",
       "      <td>$44.10</td>\n",
       "    </tr>\n",
       "    <tr>\n",
       "      <th>145</th>\n",
       "      <th>Fiery Glass Crusader</th>\n",
       "      <td>9</td>\n",
       "      <td>$4.58</td>\n",
       "      <td>$41.22</td>\n",
       "    </tr>\n",
       "    <tr>\n",
       "      <th>92</th>\n",
       "      <th>Final Critic</th>\n",
       "      <td>8</td>\n",
       "      <td>$4.88</td>\n",
       "      <td>$39.04</td>\n",
       "    </tr>\n",
       "  </tbody>\n",
       "</table>\n",
       "</div>"
      ],
      "text/plain": [
       "                                                      Purchase Count  \\\n",
       "Item ID Item Name                                                      \n",
       "178     Oathbreaker, Last Hope of the Breaking Storm              12   \n",
       "108     Extraction, Quickblade Of Trembling Hands                  9   \n",
       "82      Nirvana                                                    9   \n",
       "145     Fiery Glass Crusader                                       9   \n",
       "92      Final Critic                                               8   \n",
       "\n",
       "                                                     Item Price  \\\n",
       "Item ID Item Name                                                 \n",
       "178     Oathbreaker, Last Hope of the Breaking Storm      $4.23   \n",
       "108     Extraction, Quickblade Of Trembling Hands         $3.53   \n",
       "82      Nirvana                                           $4.90   \n",
       "145     Fiery Glass Crusader                              $4.58   \n",
       "92      Final Critic                                      $4.88   \n",
       "\n",
       "                                                     Total Purchase Value  \n",
       "Item ID Item Name                                                          \n",
       "178     Oathbreaker, Last Hope of the Breaking Storm               $50.76  \n",
       "108     Extraction, Quickblade Of Trembling Hands                  $31.77  \n",
       "82      Nirvana                                                    $44.10  \n",
       "145     Fiery Glass Crusader                                       $41.22  \n",
       "92      Final Critic                                               $39.04  "
      ]
     },
     "execution_count": 471,
     "metadata": {},
     "output_type": "execute_result"
    }
   ],
   "source": [
    "first_df = purchase_data[['Item ID','Item Name','Price']]\n",
    "second_df = first_df.groupby(['Item ID','Item Name'])\n",
    "purchase_count = second_df.count().sort_values('Price',ascending=False)\n",
    "#item_price = second_df.count().sort_values('Price',ascending=False).head()  ###wl-tbd: fix\n",
    "total_purchase_value = second_df.sum().sort_values('Price',ascending=False)\n",
    "\n",
    "#item_price = pd.merge(purchase_count,first_df, on='Item ID')\n",
    "#item_price\n",
    "#item_price.drop_duplicates()\n",
    "#purchase_count\n",
    "#total_purchase_value\n",
    "\n",
    "#final_df2 = pd.merge(item_price,total_purchase_value, on= 'Item ID')\n",
    "#final_df.drop_duplicates()\n",
    "#final_df2\n",
    "#formating\n",
    "#final_df\n",
    "\n",
    "#purchase_count\n",
    "#item_price\n",
    "#second_df\n",
    "#total_purchase_value\n",
    "###purchase_count['Price']= purchase_count['Price'].map('${:,.2f}'.format)\n",
    "#purchase_count\n",
    "###item_price['Price']=item_price['Price'].map('${:,.2f}'.format)\n",
    "\n",
    "###debugging area\n",
    "#debug_df = first_df\n",
    "#debug_df2 = pd.merge(purchase_count,debug_df, on='Item ID')\n",
    "#debug_df2.drop_duplicates()\n",
    "###wl-tbd:fix formating\n",
    "#\n",
    "\n",
    "\n",
    "debug_df1 = purchase_count.rename(columns = {'Price':'Purchase Count'}) #PURCHASE COUNT\n",
    "#debug_df1['Purchase Count'] = debug_df1['Purchase Count'].map('${:,.2f}'.format)\n",
    "\n",
    "debug_df2 = total_purchase_value.rename(columns = {'Price': 'Total Purchase Value'}) #TOTAL PRUCHASE VALUE\n",
    "#debug_df2['Total Purchase Value'].debug_df2['Total Purchase Value'].map('${:,.2f}'.format)\n",
    "#print(debug_df2.head())\n",
    "###debug_df3 = debug_df1.join(debug_df2)\n",
    "#debug_df3.astype(float)\n",
    "#debug_df3['Purchase Count']= debug_df3['Purchase Count'].map('${:,.2f}'.format)\n",
    "#debug_df3['Total Purchase Value']. debug_df3['Total Purchase Value'].map('${:,.2f}'.format)\n",
    "item_price = first_df\n",
    "debug_df4 = item_price.set_index(['Item ID','Item Name'])\n",
    "debug_df5 = debug_df4.rename(columns = {'Price':'Item Price'})  #ITEM PRICE\n",
    "debug_df5['Item Price'] = debug_df5['Item Price'].map('${:,.2f}'.format)\n",
    "\n",
    "debug_df6 = debug_df1.join(debug_df5) \n",
    "debug_df7 = debug_df6.join(debug_df2)\n",
    "\n",
    "debug_df8 = debug_df7.drop_duplicates()\n",
    "debug_df9 = debug_df8.sort_values('Purchase Count', ascending=False)\n",
    "final_df = debug_df9\n",
    "final_df\n",
    "final_df2 = final_df\n",
    "final_df2['Total Purchase Value'] = final_df['Total Purchase Value'].map('${:,.2f}'.format)\n",
    "#final_df2.sort_values('Total Purchase Value', ascending=False)\n",
    "final_df2.head()\n",
    "\n",
    "\n",
    "\n"
   ]
  },
  {
   "cell_type": "markdown",
   "metadata": {},
   "source": [
    "## Most Profitable Items"
   ]
  },
  {
   "cell_type": "markdown",
   "metadata": {},
   "source": [
    "* Sort the above table by total purchase value in descending order\n",
    "\n",
    "\n",
    "* Optional: give the displayed data cleaner formatting\n",
    "\n",
    "\n",
    "* Display a preview of the data frame\n",
    "\n"
   ]
  },
  {
   "cell_type": "code",
   "execution_count": 472,
   "metadata": {
    "scrolled": true
   },
   "outputs": [
    {
     "data": {
      "text/html": [
       "<div>\n",
       "<style scoped>\n",
       "    .dataframe tbody tr th:only-of-type {\n",
       "        vertical-align: middle;\n",
       "    }\n",
       "\n",
       "    .dataframe tbody tr th {\n",
       "        vertical-align: top;\n",
       "    }\n",
       "\n",
       "    .dataframe thead th {\n",
       "        text-align: right;\n",
       "    }\n",
       "</style>\n",
       "<table border=\"1\" class=\"dataframe\">\n",
       "  <thead>\n",
       "    <tr style=\"text-align: right;\">\n",
       "      <th></th>\n",
       "      <th></th>\n",
       "      <th>Purchase Count</th>\n",
       "      <th>Item Price</th>\n",
       "      <th>Total Purchase Value</th>\n",
       "    </tr>\n",
       "    <tr>\n",
       "      <th>Item ID</th>\n",
       "      <th>Item Name</th>\n",
       "      <th></th>\n",
       "      <th></th>\n",
       "      <th></th>\n",
       "    </tr>\n",
       "  </thead>\n",
       "  <tbody>\n",
       "    <tr>\n",
       "      <th>178</th>\n",
       "      <th>Oathbreaker, Last Hope of the Breaking Storm</th>\n",
       "      <td>12</td>\n",
       "      <td>$4.23</td>\n",
       "      <td>50.76</td>\n",
       "    </tr>\n",
       "    <tr>\n",
       "      <th>108</th>\n",
       "      <th>Extraction, Quickblade Of Trembling Hands</th>\n",
       "      <td>9</td>\n",
       "      <td>$3.53</td>\n",
       "      <td>31.77</td>\n",
       "    </tr>\n",
       "    <tr>\n",
       "      <th>82</th>\n",
       "      <th>Nirvana</th>\n",
       "      <td>9</td>\n",
       "      <td>$4.90</td>\n",
       "      <td>44.10</td>\n",
       "    </tr>\n",
       "    <tr>\n",
       "      <th>145</th>\n",
       "      <th>Fiery Glass Crusader</th>\n",
       "      <td>9</td>\n",
       "      <td>$4.58</td>\n",
       "      <td>41.22</td>\n",
       "    </tr>\n",
       "    <tr>\n",
       "      <th>92</th>\n",
       "      <th>Final Critic</th>\n",
       "      <td>8</td>\n",
       "      <td>$4.88</td>\n",
       "      <td>39.04</td>\n",
       "    </tr>\n",
       "  </tbody>\n",
       "</table>\n",
       "</div>"
      ],
      "text/plain": [
       "                                                      Purchase Count  \\\n",
       "Item ID Item Name                                                      \n",
       "178     Oathbreaker, Last Hope of the Breaking Storm              12   \n",
       "108     Extraction, Quickblade Of Trembling Hands                  9   \n",
       "82      Nirvana                                                    9   \n",
       "145     Fiery Glass Crusader                                       9   \n",
       "92      Final Critic                                               8   \n",
       "\n",
       "                                                     Item Price  \\\n",
       "Item ID Item Name                                                 \n",
       "178     Oathbreaker, Last Hope of the Breaking Storm      $4.23   \n",
       "108     Extraction, Quickblade Of Trembling Hands         $3.53   \n",
       "82      Nirvana                                           $4.90   \n",
       "145     Fiery Glass Crusader                              $4.58   \n",
       "92      Final Critic                                      $4.88   \n",
       "\n",
       "                                                      Total Purchase Value  \n",
       "Item ID Item Name                                                           \n",
       "178     Oathbreaker, Last Hope of the Breaking Storm                 50.76  \n",
       "108     Extraction, Quickblade Of Trembling Hands                    31.77  \n",
       "82      Nirvana                                                      44.10  \n",
       "145     Fiery Glass Crusader                                         41.22  \n",
       "92      Final Critic                                                 39.04  "
      ]
     },
     "execution_count": 472,
     "metadata": {},
     "output_type": "execute_result"
    }
   ],
   "source": [
    "MPI = final_df2\n",
    "MPI2= MPI\n",
    "MPI2['Total Purchase Value']=MPI2['Total Purchase Value'].str.replace('$','')\n",
    "MPI2['Total Purchase Value']= MPI2['Total Purchase Value'].astype(float)\n",
    "\n",
    "#MPI2\n",
    "#MPI2 = MPI.sort_values('Total Purchase Value', ascending=False)\n",
    "###MPI2['Total Purchase Value']= MPI2['Total Purchase Value'].astype(float)\n",
    "###MPI2['Total Purchase Value']=MPI2['Total Purchase Value'].map('${:,.2f}'.format)\n",
    "MPI2.sort_values('Total Purchase Value', ascending=False).head()\n",
    "\n",
    "###wl-bug: doesn't sort properly\n",
    "###MPI2['Total Purchase Value']= MPI2['Total Purchase Value'].astype(float)\n",
    "###   ----debug here: MPI2['Total Purchase Value']=MPI2['Total Purchase Value'].map('${:,.2f}'.format)\n",
    "\n",
    "MPI3 = MPI2.head()\n",
    "\n",
    "MPI3\n",
    "\n",
    "###wl-this code does work\n",
    "############################\n",
    "#MPI3['Total Purchase Value']= MPI3['Total Purchase Value'].astype(float)\n",
    "#MPI3['Total Purchase Value']=MPI3['Total Purchase Value'].map('${:,.2f}'.format)\n",
    "#MPI = final_df2.sort_values('Total Purchase Value', ascending=False)\n",
    "############################\n",
    "\n",
    "\n",
    "#MPI_df2= MPI.reset_index()\n",
    "#MPI_df3 = MPI_df2.sort_values('Total Purchase Value', ascending=False)\n",
    "#MPI_df3['Total Purchase Value'].sort_values(ascending=False)\n",
    "#MPI['Total Purchase Value'].astype(float)"
   ]
  },
  {
   "cell_type": "markdown",
   "metadata": {},
   "source": [
    "### OBSERVABLE TRENDS\n",
    "1. Age group 20 -24 spends the most money on items compared to other age groups.\n",
    "2. The player base is mostly males.\n",
    "3. The game is mostly played by 20 - 24 age group."
   ]
  }
 ],
 "metadata": {
  "anaconda-cloud": {},
  "kernel_info": {
   "name": "python3"
  },
  "kernelspec": {
   "display_name": "Python 3",
   "language": "python",
   "name": "python3"
  },
  "language_info": {
   "codemirror_mode": {
    "name": "ipython",
    "version": 3
   },
   "file_extension": ".py",
   "mimetype": "text/x-python",
   "name": "python",
   "nbconvert_exporter": "python",
   "pygments_lexer": "ipython3",
   "version": "3.6.8"
  },
  "nteract": {
   "version": "0.2.0"
  }
 },
 "nbformat": 4,
 "nbformat_minor": 2
}
